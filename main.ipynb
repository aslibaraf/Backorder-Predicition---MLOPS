{
 "cells": [
  {
   "cell_type": "code",
   "execution_count": 1,
   "metadata": {},
   "outputs": [],
   "source": [
    "import os\n",
    "from pathlib import Path\n",
    "project_name = 'Backorder_Prediction'\n",
    "\n",
    "listoffile= [\n",
    "\n",
    "    f\"{project_name}/__init__.py\",\n",
    "    f\"{project_name}/components/__init__.py\",\n",
    "    f\"{project_name}/components/data_ingestion.py\",  \n",
    "    f\"{project_name}/components/data_validation.py\",\n",
    "    f\"{project_name}/components/data_transformation.py\",\n",
    "    f\"{project_name}/components/model_trainer.py\",\n",
    "    f\"{project_name}/components/model_evaluation.py\",\n",
    "    f\"{project_name}/components/model_pusher.py\",\n",
    "    f\"{project_name}/configuration/__init__.py\",\n",
    "    f\"{project_name}/constants/__init__.py\",\n",
    "    f\"{project_name}/entity/__init__.py\",\n",
    "    f\"{project_name}/entity/config_entity.py\",\n",
    "    f\"{project_name}/entity/artifact_entity.py\",\n",
    "    f\"{project_name}/exception/__init__.py\",\n",
    "    f\"{project_name}/logger/__init__.py\",\n",
    "    f\"{project_name}/pipline/__init__.py\",\n",
    "    f\"{project_name}/pipline/training_pipeline.py\",\n",
    "    f\"{project_name}/pipline/prediction_pipeline.py\",\n",
    "    f\"{project_name}/utils/__init__.py\",\n",
    "    f\"{project_name}/utils/main_utils.py\",\n",
    "    \"app.py\",\n",
    "    \"requirements.txt\",\n",
    "    \"Dockerfile\",\n",
    "    \".dockerignore\",\n",
    "    \"demo.py\",\n",
    "    \"setup.py\",\n",
    "    \"config/model.yaml\",\n",
    "    \"config/schema.yaml\",\n",
    "]\n",
    "\n",
    "\n",
    "for filepath in listoffile:\n",
    "    filepath = Path(filepath)\n",
    "    print(filepath)\n",
    "    filedir, filename = os.path.split(filepath)\n",
    "    print(filedir,filename)\n",
    "    if filedir != \"\":\n",
    "        os.makedirs(filedir, exist_ok=True)\n",
    "    if (not os.path.exists(filepath)) or (os.path.getsize(filepath) == 0):\n",
    "        with open(filepath, \"w\") as f:\n",
    "            pass\n",
    "    else:\n",
    "        print(f\"file is already present at: {filepath}\")"
   ]
  },
  {
   "cell_type": "code",
   "execution_count": null,
   "metadata": {},
   "outputs": [],
   "source": []
  }
 ],
 "metadata": {
  "kernelspec": {
   "display_name": "visa",
   "language": "python",
   "name": "python3"
  },
  "language_info": {
   "codemirror_mode": {
    "name": "ipython",
    "version": 3
   },
   "file_extension": ".py",
   "mimetype": "text/x-python",
   "name": "python",
   "nbconvert_exporter": "python",
   "pygments_lexer": "ipython3",
   "version": "3.8.19"
  }
 },
 "nbformat": 4,
 "nbformat_minor": 2
}
